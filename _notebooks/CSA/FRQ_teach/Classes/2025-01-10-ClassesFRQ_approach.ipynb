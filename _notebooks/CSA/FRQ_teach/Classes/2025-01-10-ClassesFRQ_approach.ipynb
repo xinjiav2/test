{
 "cells": [
  {
   "cell_type": "markdown",
   "metadata": {},
   "source": [
    "---\n",
    "layout: post\n",
    "toc: true\n",
    "title: FRQ Teaching | Classes | Approach\n",
    "description: Lesson for class FRQs\n",
    "categories: [AP CSA]\n",
    "menu: nav/FRQ_teach/classes.html\n",
    "author: Ian Wu, Trevor Huang, Alisha Hussain\n",
    "permalink: /csa/frqclasses/approach\n",
    "---"
   ]
  },
  {
   "cell_type": "markdown",
   "metadata": {},
   "source": [
    "# The Problem - 2024 FRQ #2\n",
    "\n",
    "![Problem Text](../../../../images/FRQ_teach/image.png)\n",
    "![Sample Problem Code](../../../../images/FRQ_teach/image-1.png)"
   ]
  },
  {
   "cell_type": "markdown",
   "metadata": {},
   "source": [
    "# I - The Free Points\n",
    "4 points that you should get, even if you have no idea how to code.\n",
    "\n",
    "#### Point 1\n",
    "Declares class header: class Scoreboard\n",
    "\n",
    " - Do NOT forget public\n",
    " - Do NOT write the name wrong"
   ]
  },
  {
   "cell_type": "code",
   "execution_count": null,
   "metadata": {
    "vscode": {
     "languageId": "java"
    }
   },
   "outputs": [],
   "source": [
    "public class Scoreboard {\n",
    "    \n",
    "}"
   ]
  },
  {
   "cell_type": "markdown",
   "metadata": {},
   "source": [
    "#### Point 2\n",
    "Declares at least one private String instance variable and one private int instance variable\n",
    "\n",
    "###### Figuring out variables\n",
    " - Identify what is fed into construction. Create variables for those.\n",
    " - Identify what is being returned by the methods\n",
    "     - If it can be constructed from already existing variables, no need to create mote\n",
    "     - In this case, it would be easier to store integer variables rather than using casting and substrings to modify an output string\n",
    "     - Identify any other variable you might need. This can be done later. In this case, we need a variable to identify whose turn it is\n",
    " - Variable must be STATIC"
   ]
  },
  {
   "cell_type": "code",
   "execution_count": null,
   "metadata": {
    "vscode": {
     "languageId": "java"
    }
   },
   "outputs": [],
   "source": [
    "public class Scoreboard {\n",
    "    private String Team1;\n",
    "    private String Team2;\n",
    "    private int turn;\n",
    "    private int score1;\n",
    "    private int score2;\n",
    "}"
   ]
  },
  {
   "cell_type": "markdown",
   "metadata": {},
   "source": [
    "#### Point 3\n",
    "Declares constructor header: Scoreboard(String ___,  String ___) and constructor initializes both team name instance variables using parameters\n",
    "\n",
    "- Identify what the constructor takes in\n",
    "- Assign variables appropriately\n",
    "- Make sure your constructure is PUBLIC"
   ]
  },
  {
   "cell_type": "code",
   "execution_count": null,
   "metadata": {
    "vscode": {
     "languageId": "java"
    }
   },
   "outputs": [],
   "source": [
    "public class Scoreboard {\n",
    "   private String Team1;\n",
    "   private String Team2;\n",
    "   private int turn;\n",
    "   private int score1;\n",
    "   private int score2;\n",
    "\n",
    "   public Scoreboard(String team1, String team2) { \n",
    "      this.Team1 = team1; \n",
    "      this.Team2 = team2; \n",
    "      this.whoseTurn = 1; \n",
    "      this.score1 = 0; \n",
    "      this.score2 = 0; \n",
    "   }\n",
    "}"
   ]
  },
  {
   "cell_type": "markdown",
   "metadata": {
    "vscode": {
     "languageId": "java"
    }
   },
   "source": [
    "#### Point 4\n",
    "Declares method headers: `public void recordPlay(int ___)` and `public String getScore()`\n",
    "\n",
    "- Do not mess up the names\n",
    "- Do not mess up the return types or argument types. These are given in the specifications"
   ]
  },
  {
   "cell_type": "code",
   "execution_count": null,
   "metadata": {
    "vscode": {
     "languageId": "java"
    }
   },
   "outputs": [],
   "source": [
    "public class Scoreboard {\n",
    "    private String Team1;\n",
    "    private String Team2;\n",
    "    private int turn;\n",
    "    private int score1;\n",
    "    private int score2;\n",
    " \n",
    "    public Scoreboard(String team1, String team2) { \n",
    "       this.Team1 = team1; \n",
    "       this.Team2 = team2; \n",
    "       this.whoseTurn = 1; \n",
    "       this.score1 = 0; \n",
    "       this.score2 = 0; \n",
    "    }\n",
    "\n",
    "    public void recordPlay(int points) {\n",
    "        \n",
    "    }\n",
    "\n",
    "    public String getScore() {\n",
    "        \n",
    "    }\n",
    " }"
   ]
  },
  {
   "cell_type": "markdown",
   "metadata": {},
   "source": [
    "# II - Rest of the Problem\n",
    "Two methods to create, getScore is just returning a String, while recordPlay has the algorithm. Hence, recordPlay is worth more points, 4, whereas getScore is only worth 1.\n",
    "\n",
    "#### Point 5\n",
    "Accessor method builds and returns specified string (algorithm)\n",
    "\n",
    "- Build string to return from current variables\n",
    "- Always score 1 + \"-\" + score 2 + \"-\"\n",
    "- Team's name depends on whose turn --> if statement"
   ]
  },
  {
   "cell_type": "code",
   "execution_count": null,
   "metadata": {
    "vscode": {
     "languageId": "java"
    }
   },
   "outputs": [],
   "source": [
    "public class Scoreboard {\n",
    "    private String team1;\n",
    "    private String team2;\n",
    "    private int turn;\n",
    "    private int score1;\n",
    "    private int score2;\n",
    " \n",
    "    public Scoreboard(String team1, String team2) { \n",
    "       this.team1 = team1; \n",
    "       this.team2 = team2; \n",
    "       this.turn = 1; \n",
    "       this.score1 = 0; \n",
    "       this.score2 = 0; \n",
    "    }\n",
    "\n",
    "    public void recordPlay(int points) {\n",
    "        \n",
    "    }\n",
    "\n",
    "    public String getScore() {\n",
    "        String result = this.score1 + \"-\" + this.score2 + \"-\"; \n",
    "        if (this.turn == 1) { \n",
    "            result += this.team1; \n",
    "        } else { \n",
    "            result += this.team2; \n",
    "        } \n",
    "        return result;\n",
    "    }\n",
    " }"
   ]
  },
  {
   "cell_type": "markdown",
   "metadata": {},
   "source": [
    "#### The rest - recordPlay\n",
    "- Consider Outcomes:\n",
    "    - turn changes: occurs if points is 0\n",
    "    - score is incremented: occurs if points is not 0\n",
    "\n",
    "Issue with the above:\n",
    " - depending on the turn, a different variable is incremented --> if statement\n",
    " - turn will change to different person depending on existing turn --> if statement"
   ]
  },
  {
   "cell_type": "code",
   "execution_count": 10,
   "metadata": {
    "vscode": {
     "languageId": "java"
    }
   },
   "outputs": [],
   "source": [
    "public class Scoreboard {\n",
    "    private String team1;\n",
    "    private String team2;\n",
    "    private int turn;\n",
    "    private int score1;\n",
    "    private int score2;\n",
    " \n",
    "    public Scoreboard(String team1, String team2) { \n",
    "        this.team1 = team1; \n",
    "        this.team2 = team2; \n",
    "        this.turn = 1; \n",
    "        this.score1 = 0; \n",
    "        this.score2 = 0; \n",
    "    }\n",
    "\n",
    "    public void recordPlay(int points) {\n",
    "        if (points == 0) { \n",
    "            if (this.turn == 1) { \n",
    "                this.turn = 2; \n",
    "            } else { \n",
    "                this.turn = 1; \n",
    "            } \n",
    "        } else { \n",
    "            if (this.turn == 1) { \n",
    "                this.score1 += points; \n",
    "            } else { \n",
    "                this.score2 += points; \n",
    "            } \n",
    "        }\n",
    "    }\n",
    "\n",
    "    public String getScore() {\n",
    "        String result = this.score1 + \"-\" + this.score2 + \"-\"; \n",
    "        if (this.turn == 1) { \n",
    "            result += this.team1; \n",
    "        } else { \n",
    "            result += this.team2; \n",
    "        } \n",
    "        return result;\n",
    "    }\n",
    "}"
   ]
  }
 ],
 "metadata": {
  "kernelspec": {
   "display_name": "Java",
   "language": "java",
   "name": "java"
  },
  "language_info": {
   "codemirror_mode": "java",
   "file_extension": ".jshell",
   "mimetype": "text/x-java-source",
   "name": "Java",
   "pygments_lexer": "java",
   "version": "17.0.12+7-Ubuntu-1ubuntu222.04"
  }
 },
 "nbformat": 4,
 "nbformat_minor": 2
}
