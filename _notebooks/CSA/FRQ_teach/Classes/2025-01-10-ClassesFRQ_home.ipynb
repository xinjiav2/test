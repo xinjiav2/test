{
 "cells": [
  {
   "cell_type": "markdown",
   "metadata": {},
   "source": [
    "---\n",
    "layout: post\n",
    "toc: true\n",
    "title: FRQ Teaching | Classes | Home\n",
    "description: Lesson for class FRQs\n",
    "categories: [AP CSA]\n",
    "courses: { csa: {week: 17} }\n",
    "type: ccc\n",
    "menu: nav/FRQ_teach/classes.html\n",
    "author: Ian Wu, Trevor Huang, Alisha Hussain\n",
    "permalink: /csa/frqclasses/home\n",
    "---"
   ]
  }
 ],
 "metadata": {
  "language_info": {
   "name": "python"
  }
 },
 "nbformat": 4,
 "nbformat_minor": 2
}
